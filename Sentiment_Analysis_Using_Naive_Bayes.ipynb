{
 "cells": [
  {
   "cell_type": "code",
   "execution_count": 3,
   "metadata": {
    "_cell_guid": "b1076dfc-b9ad-4769-8c92-a6c4dae69d19",
    "_uuid": "8f2839f25d086af736a60e9eeb907d3b93b6e0e5",
    "execution": {
     "iopub.execute_input": "2023-06-22T13:39:58.682088Z",
     "iopub.status.busy": "2023-06-22T13:39:58.681441Z",
     "iopub.status.idle": "2023-06-22T13:39:58.693231Z",
     "shell.execute_reply": "2023-06-22T13:39:58.691915Z",
     "shell.execute_reply.started": "2023-06-22T13:39:58.682032Z"
    }
   },
   "outputs": [],
   "source": [
    "import numpy as np # linear algebra\n",
    "import pandas as pd # data processing, CSV file I/O (e.g. pd.read_csv)"
   ]
  },
  {
   "cell_type": "code",
   "execution_count": 4,
   "metadata": {
    "_cell_guid": "79c7e3d0-c299-4dcb-8224-4455121ee9b0",
    "_uuid": "d629ff2d2480ee46fbb7e2d37f6b5fab8052498a",
    "execution": {
     "iopub.execute_input": "2023-06-22T13:39:58.699166Z",
     "iopub.status.busy": "2023-06-22T13:39:58.698292Z",
     "iopub.status.idle": "2023-06-22T13:39:59.862814Z",
     "shell.execute_reply": "2023-06-22T13:39:59.861636Z",
     "shell.execute_reply.started": "2023-06-22T13:39:58.699070Z"
    }
   },
   "outputs": [],
   "source": [
    "df=pd.read_csv('IMDB Dataset.csv')"
   ]
  },
  {
   "cell_type": "code",
   "execution_count": 5,
   "metadata": {
    "execution": {
     "iopub.execute_input": "2023-06-22T13:40:04.733235Z",
     "iopub.status.busy": "2023-06-22T13:40:04.732798Z",
     "iopub.status.idle": "2023-06-22T13:40:04.753877Z",
     "shell.execute_reply": "2023-06-22T13:40:04.751968Z",
     "shell.execute_reply.started": "2023-06-22T13:40:04.733160Z"
    }
   },
   "outputs": [
    {
     "data": {
      "text/html": [
       "<div>\n",
       "<style scoped>\n",
       "    .dataframe tbody tr th:only-of-type {\n",
       "        vertical-align: middle;\n",
       "    }\n",
       "\n",
       "    .dataframe tbody tr th {\n",
       "        vertical-align: top;\n",
       "    }\n",
       "\n",
       "    .dataframe thead th {\n",
       "        text-align: right;\n",
       "    }\n",
       "</style>\n",
       "<table border=\"1\" class=\"dataframe\">\n",
       "  <thead>\n",
       "    <tr style=\"text-align: right;\">\n",
       "      <th></th>\n",
       "      <th>review</th>\n",
       "      <th>sentiment</th>\n",
       "    </tr>\n",
       "  </thead>\n",
       "  <tbody>\n",
       "    <tr>\n",
       "      <th>0</th>\n",
       "      <td>One of the other reviewers has mentioned that ...</td>\n",
       "      <td>positive</td>\n",
       "    </tr>\n",
       "    <tr>\n",
       "      <th>1</th>\n",
       "      <td>A wonderful little production. &lt;br /&gt;&lt;br /&gt;The...</td>\n",
       "      <td>positive</td>\n",
       "    </tr>\n",
       "    <tr>\n",
       "      <th>2</th>\n",
       "      <td>I thought this was a wonderful way to spend ti...</td>\n",
       "      <td>positive</td>\n",
       "    </tr>\n",
       "    <tr>\n",
       "      <th>3</th>\n",
       "      <td>Basically there's a family where a little boy ...</td>\n",
       "      <td>negative</td>\n",
       "    </tr>\n",
       "    <tr>\n",
       "      <th>4</th>\n",
       "      <td>Petter Mattei's \"Love in the Time of Money\" is...</td>\n",
       "      <td>positive</td>\n",
       "    </tr>\n",
       "  </tbody>\n",
       "</table>\n",
       "</div>"
      ],
      "text/plain": [
       "                                              review sentiment\n",
       "0  One of the other reviewers has mentioned that ...  positive\n",
       "1  A wonderful little production. <br /><br />The...  positive\n",
       "2  I thought this was a wonderful way to spend ti...  positive\n",
       "3  Basically there's a family where a little boy ...  negative\n",
       "4  Petter Mattei's \"Love in the Time of Money\" is...  positive"
      ]
     },
     "execution_count": 5,
     "metadata": {},
     "output_type": "execute_result"
    }
   ],
   "source": [
    "df.head()"
   ]
  },
  {
   "cell_type": "code",
   "execution_count": 6,
   "metadata": {
    "execution": {
     "iopub.execute_input": "2023-06-22T13:40:05.258485Z",
     "iopub.status.busy": "2023-06-22T13:40:05.258040Z",
     "iopub.status.idle": "2023-06-22T13:40:05.274024Z",
     "shell.execute_reply": "2023-06-22T13:40:05.272764Z",
     "shell.execute_reply.started": "2023-06-22T13:40:05.258420Z"
    }
   },
   "outputs": [
    {
     "data": {
      "text/plain": [
       "\"One of the other reviewers has mentioned that after watching just 1 Oz episode you'll be hooked. They are right, as this is exactly what happened with me.<br /><br />The first thing that struck me about Oz was its brutality and unflinching scenes of violence, which set in right from the word GO. Trust me, this is not a show for the faint hearted or timid. This show pulls no punches with regards to drugs, sex or violence. Its is hardcore, in the classic use of the word.<br /><br />It is called OZ as that is the nickname given to the Oswald Maximum Security State Penitentary. It focuses mainly on Emerald City, an experimental section of the prison where all the cells have glass fronts and face inwards, so privacy is not high on the agenda. Em City is home to many..Aryans, Muslims, gangstas, Latinos, Christians, Italians, Irish and more....so scuffles, death stares, dodgy dealings and shady agreements are never far away.<br /><br />I would say the main appeal of the show is due to the fact that it goes where other shows wouldn't dare. Forget pretty pictures painted for mainstream audiences, forget charm, forget romance...OZ doesn't mess around. The first episode I ever saw struck me as so nasty it was surreal, I couldn't say I was ready for it, but as I watched more, I developed a taste for Oz, and got accustomed to the high levels of graphic violence. Not just violence, but injustice (crooked guards who'll be sold out for a nickel, inmates who'll kill on order and get away with it, well mannered, middle class inmates being turned into prison bitches due to their lack of street skills or prison experience) Watching Oz, you may become comfortable with what is uncomfortable viewing....thats if you can get in touch with your darker side.\""
      ]
     },
     "execution_count": 6,
     "metadata": {},
     "output_type": "execute_result"
    }
   ],
   "source": [
    "# One review\n",
    "df['review'][0]"
   ]
  },
  {
   "cell_type": "markdown",
   "metadata": {},
   "source": [
    "## Text Cleaning\n",
    "\n",
    "1. Sample 10000 rows\n",
    "2. Remove html tags\n",
    "3. Remove special characters\n",
    "4. Converting every thing to lower case\n",
    "5. Removing Stop words\n",
    "6. Stemming"
   ]
  },
  {
   "cell_type": "code",
   "execution_count": 7,
   "metadata": {
    "execution": {
     "iopub.execute_input": "2023-06-22T13:40:07.716162Z",
     "iopub.status.busy": "2023-06-22T13:40:07.715769Z",
     "iopub.status.idle": "2023-06-22T13:40:07.729205Z",
     "shell.execute_reply": "2023-06-22T13:40:07.727963Z",
     "shell.execute_reply.started": "2023-06-22T13:40:07.716107Z"
    }
   },
   "outputs": [],
   "source": [
    "df=df.sample(10000)"
   ]
  },
  {
   "cell_type": "code",
   "execution_count": 8,
   "metadata": {
    "execution": {
     "iopub.execute_input": "2023-06-22T13:40:09.189841Z",
     "iopub.status.busy": "2023-06-22T13:40:09.189414Z",
     "iopub.status.idle": "2023-06-22T13:40:09.198825Z",
     "shell.execute_reply": "2023-06-22T13:40:09.197270Z",
     "shell.execute_reply.started": "2023-06-22T13:40:09.189779Z"
    }
   },
   "outputs": [
    {
     "data": {
      "text/plain": [
       "(10000, 2)"
      ]
     },
     "execution_count": 8,
     "metadata": {},
     "output_type": "execute_result"
    }
   ],
   "source": [
    "df.shape"
   ]
  },
  {
   "cell_type": "code",
   "execution_count": 9,
   "metadata": {
    "execution": {
     "iopub.execute_input": "2023-06-22T13:40:10.106810Z",
     "iopub.status.busy": "2023-06-22T13:40:10.106402Z",
     "iopub.status.idle": "2023-06-22T13:40:10.119387Z",
     "shell.execute_reply": "2023-06-22T13:40:10.117722Z",
     "shell.execute_reply.started": "2023-06-22T13:40:10.106763Z"
    }
   },
   "outputs": [
    {
     "name": "stdout",
     "output_type": "stream",
     "text": [
      "<class 'pandas.core.frame.DataFrame'>\n",
      "Int64Index: 10000 entries, 35625 to 20911\n",
      "Data columns (total 2 columns):\n",
      " #   Column     Non-Null Count  Dtype \n",
      "---  ------     --------------  ----- \n",
      " 0   review     10000 non-null  object\n",
      " 1   sentiment  10000 non-null  object\n",
      "dtypes: object(2)\n",
      "memory usage: 234.4+ KB\n"
     ]
    }
   ],
   "source": [
    "df.info()"
   ]
  },
  {
   "cell_type": "code",
   "execution_count": 10,
   "metadata": {
    "execution": {
     "iopub.execute_input": "2023-06-22T13:40:11.974993Z",
     "iopub.status.busy": "2023-06-22T13:40:11.974557Z",
     "iopub.status.idle": "2023-06-22T13:40:11.985923Z",
     "shell.execute_reply": "2023-06-22T13:40:11.984578Z",
     "shell.execute_reply.started": "2023-06-22T13:40:11.974928Z"
    }
   },
   "outputs": [],
   "source": [
    "df['sentiment'].replace({'positive':1,'negative':0},inplace=True)"
   ]
  },
  {
   "cell_type": "code",
   "execution_count": 11,
   "metadata": {
    "execution": {
     "iopub.execute_input": "2023-06-22T13:40:12.848289Z",
     "iopub.status.busy": "2023-06-22T13:40:12.847859Z",
     "iopub.status.idle": "2023-06-22T13:40:12.859937Z",
     "shell.execute_reply": "2023-06-22T13:40:12.858990Z",
     "shell.execute_reply.started": "2023-06-22T13:40:12.848225Z"
    }
   },
   "outputs": [
    {
     "data": {
      "text/html": [
       "<div>\n",
       "<style scoped>\n",
       "    .dataframe tbody tr th:only-of-type {\n",
       "        vertical-align: middle;\n",
       "    }\n",
       "\n",
       "    .dataframe tbody tr th {\n",
       "        vertical-align: top;\n",
       "    }\n",
       "\n",
       "    .dataframe thead th {\n",
       "        text-align: right;\n",
       "    }\n",
       "</style>\n",
       "<table border=\"1\" class=\"dataframe\">\n",
       "  <thead>\n",
       "    <tr style=\"text-align: right;\">\n",
       "      <th></th>\n",
       "      <th>review</th>\n",
       "      <th>sentiment</th>\n",
       "    </tr>\n",
       "  </thead>\n",
       "  <tbody>\n",
       "    <tr>\n",
       "      <th>35625</th>\n",
       "      <td>I can't believe that someone actually paid to ...</td>\n",
       "      <td>0</td>\n",
       "    </tr>\n",
       "    <tr>\n",
       "      <th>5845</th>\n",
       "      <td>I couldn't believe that the Adult Swim guys ca...</td>\n",
       "      <td>1</td>\n",
       "    </tr>\n",
       "    <tr>\n",
       "      <th>30960</th>\n",
       "      <td>Honestly, one of the worst written, directed a...</td>\n",
       "      <td>0</td>\n",
       "    </tr>\n",
       "    <tr>\n",
       "      <th>1863</th>\n",
       "      <td>The original Female Convict Scorpion is an all...</td>\n",
       "      <td>1</td>\n",
       "    </tr>\n",
       "    <tr>\n",
       "      <th>10682</th>\n",
       "      <td>OK, so this is a complete rip off of the first...</td>\n",
       "      <td>1</td>\n",
       "    </tr>\n",
       "  </tbody>\n",
       "</table>\n",
       "</div>"
      ],
      "text/plain": [
       "                                                  review  sentiment\n",
       "35625  I can't believe that someone actually paid to ...          0\n",
       "5845   I couldn't believe that the Adult Swim guys ca...          1\n",
       "30960  Honestly, one of the worst written, directed a...          0\n",
       "1863   The original Female Convict Scorpion is an all...          1\n",
       "10682  OK, so this is a complete rip off of the first...          1"
      ]
     },
     "execution_count": 11,
     "metadata": {},
     "output_type": "execute_result"
    }
   ],
   "source": [
    "df.head()"
   ]
  },
  {
   "cell_type": "code",
   "execution_count": 12,
   "metadata": {
    "execution": {
     "iopub.execute_input": "2023-06-22T13:40:14.715911Z",
     "iopub.status.busy": "2023-06-22T13:40:14.715473Z",
     "iopub.status.idle": "2023-06-22T13:40:14.724004Z",
     "shell.execute_reply": "2023-06-22T13:40:14.722838Z",
     "shell.execute_reply.started": "2023-06-22T13:40:14.715834Z"
    }
   },
   "outputs": [
    {
     "data": {
      "text/plain": [
       "\"Honestly, one of the worst written, directed and acted movies I have ever seen. Seemed like a made-for-TV movie. And a bad one at that. I cannot believe that people are still hiring Danny Huston after seeing him in this movie, or that they are still allowing John Sayles to make films. My husband and I came across this movie on TV one night and got so bored with it, we ended up cleaning the house while it was on . . . and it still bored us! It made me think that critics have been so gullible with Sayles' previous films, such as Lone Star, which was raved about at he time but didn't really add up to much in the end. Spend your time on something better. Anything.\""
      ]
     },
     "execution_count": 12,
     "metadata": {},
     "output_type": "execute_result"
    }
   ],
   "source": [
    "import re\n",
    "clean = re.compile('<.*?>')\n",
    "re.sub(clean, '', df.iloc[2].review)"
   ]
  },
  {
   "cell_type": "code",
   "execution_count": 13,
   "metadata": {
    "execution": {
     "iopub.execute_input": "2023-06-22T13:40:16.255489Z",
     "iopub.status.busy": "2023-06-22T13:40:16.255085Z",
     "iopub.status.idle": "2023-06-22T13:40:16.261461Z",
     "shell.execute_reply": "2023-06-22T13:40:16.259808Z",
     "shell.execute_reply.started": "2023-06-22T13:40:16.255435Z"
    }
   },
   "outputs": [],
   "source": [
    "# Function to clean html tags\n",
    "def clean_html(text):\n",
    "    clean = re.compile('<.*?>')\n",
    "    return re.sub(clean, '', text)"
   ]
  },
  {
   "cell_type": "code",
   "execution_count": 14,
   "metadata": {
    "execution": {
     "iopub.execute_input": "2023-06-22T13:40:17.879092Z",
     "iopub.status.busy": "2023-06-22T13:40:17.878700Z",
     "iopub.status.idle": "2023-06-22T13:40:17.950068Z",
     "shell.execute_reply": "2023-06-22T13:40:17.949045Z",
     "shell.execute_reply.started": "2023-06-22T13:40:17.879040Z"
    }
   },
   "outputs": [],
   "source": [
    "df['review']=df['review'].apply(clean_html)"
   ]
  },
  {
   "cell_type": "code",
   "execution_count": 15,
   "metadata": {
    "execution": {
     "iopub.execute_input": "2023-06-22T13:40:19.289951Z",
     "iopub.status.busy": "2023-06-22T13:40:19.289545Z",
     "iopub.status.idle": "2023-06-22T13:40:19.295037Z",
     "shell.execute_reply": "2023-06-22T13:40:19.293563Z",
     "shell.execute_reply.started": "2023-06-22T13:40:19.289898Z"
    }
   },
   "outputs": [],
   "source": [
    "# converting everything to lower\n",
    "\n",
    "def convert_lower(text):\n",
    "    return text.lower()"
   ]
  },
  {
   "cell_type": "code",
   "execution_count": 16,
   "metadata": {
    "execution": {
     "iopub.execute_input": "2023-06-22T13:40:20.780821Z",
     "iopub.status.busy": "2023-06-22T13:40:20.780364Z",
     "iopub.status.idle": "2023-06-22T13:40:20.828940Z",
     "shell.execute_reply": "2023-06-22T13:40:20.827935Z",
     "shell.execute_reply.started": "2023-06-22T13:40:20.780747Z"
    }
   },
   "outputs": [],
   "source": [
    "df['review']=df['review'].apply(convert_lower)"
   ]
  },
  {
   "cell_type": "code",
   "execution_count": 17,
   "metadata": {
    "execution": {
     "iopub.execute_input": "2023-06-22T13:40:21.464203Z",
     "iopub.status.busy": "2023-06-22T13:40:21.463795Z",
     "iopub.status.idle": "2023-06-22T13:40:21.470259Z",
     "shell.execute_reply": "2023-06-22T13:40:21.468935Z",
     "shell.execute_reply.started": "2023-06-22T13:40:21.464150Z"
    }
   },
   "outputs": [],
   "source": [
    "# function to remove special characters\n",
    "\n",
    "def remove_special(text):\n",
    "    x=''\n",
    "    \n",
    "    for i in text:\n",
    "        if i.isalnum():\n",
    "            x=x+i\n",
    "        else:\n",
    "            x=x + ' '\n",
    "    return x"
   ]
  },
  {
   "cell_type": "code",
   "execution_count": 18,
   "metadata": {
    "execution": {
     "iopub.execute_input": "2023-06-22T13:40:22.747612Z",
     "iopub.status.busy": "2023-06-22T13:40:22.747205Z",
     "iopub.status.idle": "2023-06-22T13:40:22.756871Z",
     "shell.execute_reply": "2023-06-22T13:40:22.754868Z",
     "shell.execute_reply.started": "2023-06-22T13:40:22.747558Z"
    }
   },
   "outputs": [
    {
     "data": {
      "text/plain": [
       "' th e   classic use of the word it is called oz as that is the nickname given to the oswald maximum security state penitentary  it focuses mainly on emerald city  an experimental section of the prison where all the cells have glass fronts and face inwards  so privacy is not high on the agenda  em city is home to many  aryans  muslims  gangstas  latinos  christians  italians  irish and more    so scuffles  death stares  dodgy dealings and shady agreements are never far away i would say the main appeal of the show is due to the fact that it goes where other shows wouldnt dare  forget pretty pictures painted for mainstream audiences  f'"
      ]
     },
     "execution_count": 18,
     "metadata": {},
     "output_type": "execute_result"
    }
   ],
   "source": [
    "remove_special(' th%e @ classic use of the word.it is called oz as that is the nickname given to the oswald maximum security state penitentary. it focuses mainly on emerald city, an experimental section of the prison where all the cells have glass fronts and face inwards, so privacy is not high on the agenda. em city is home to many..aryans, muslims, gangstas, latinos, christians, italians, irish and more....so scuffles, death stares, dodgy dealings and shady agreements are never far away.i would say the main appeal of the show is due to the fact that it goes where other shows wouldnt dare. forget pretty pictures painted for mainstream audiences, f')"
   ]
  },
  {
   "cell_type": "code",
   "execution_count": 19,
   "metadata": {
    "execution": {
     "iopub.execute_input": "2023-06-22T13:40:23.703514Z",
     "iopub.status.busy": "2023-06-22T13:40:23.703126Z",
     "iopub.status.idle": "2023-06-22T13:40:25.717421Z",
     "shell.execute_reply": "2023-06-22T13:40:25.716505Z",
     "shell.execute_reply.started": "2023-06-22T13:40:23.703450Z"
    }
   },
   "outputs": [],
   "source": [
    "df['review']=df['review'].apply(remove_special)"
   ]
  },
  {
   "cell_type": "code",
   "execution_count": 20,
   "metadata": {
    "execution": {
     "iopub.execute_input": "2023-06-22T13:40:34.746984Z",
     "iopub.status.busy": "2023-06-22T13:40:34.746543Z",
     "iopub.status.idle": "2023-06-22T13:40:36.409020Z",
     "shell.execute_reply": "2023-06-22T13:40:36.407223Z",
     "shell.execute_reply.started": "2023-06-22T13:40:34.746926Z"
    }
   },
   "outputs": [],
   "source": [
    "# Remove the stop words\n",
    "import nltk"
   ]
  },
  {
   "cell_type": "code",
   "execution_count": 21,
   "metadata": {
    "execution": {
     "iopub.execute_input": "2023-06-22T13:40:37.664668Z",
     "iopub.status.busy": "2023-06-22T13:40:37.664267Z",
     "iopub.status.idle": "2023-06-22T13:40:37.674174Z",
     "shell.execute_reply": "2023-06-22T13:40:37.672794Z",
     "shell.execute_reply.started": "2023-06-22T13:40:37.664616Z"
    }
   },
   "outputs": [],
   "source": [
    "from nltk.corpus import stopwords"
   ]
  },
  {
   "cell_type": "code",
   "execution_count": 22,
   "metadata": {
    "execution": {
     "iopub.execute_input": "2023-06-22T13:40:38.559240Z",
     "iopub.status.busy": "2023-06-22T13:40:38.558832Z",
     "iopub.status.idle": "2023-06-22T13:40:38.578497Z",
     "shell.execute_reply": "2023-06-22T13:40:38.577502Z",
     "shell.execute_reply.started": "2023-06-22T13:40:38.559184Z"
    }
   },
   "outputs": [
    {
     "data": {
      "text/plain": [
       "['i',\n",
       " 'me',\n",
       " 'my',\n",
       " 'myself',\n",
       " 'we',\n",
       " 'our',\n",
       " 'ours',\n",
       " 'ourselves',\n",
       " 'you',\n",
       " \"you're\",\n",
       " \"you've\",\n",
       " \"you'll\",\n",
       " \"you'd\",\n",
       " 'your',\n",
       " 'yours',\n",
       " 'yourself',\n",
       " 'yourselves',\n",
       " 'he',\n",
       " 'him',\n",
       " 'his',\n",
       " 'himself',\n",
       " 'she',\n",
       " \"she's\",\n",
       " 'her',\n",
       " 'hers',\n",
       " 'herself',\n",
       " 'it',\n",
       " \"it's\",\n",
       " 'its',\n",
       " 'itself',\n",
       " 'they',\n",
       " 'them',\n",
       " 'their',\n",
       " 'theirs',\n",
       " 'themselves',\n",
       " 'what',\n",
       " 'which',\n",
       " 'who',\n",
       " 'whom',\n",
       " 'this',\n",
       " 'that',\n",
       " \"that'll\",\n",
       " 'these',\n",
       " 'those',\n",
       " 'am',\n",
       " 'is',\n",
       " 'are',\n",
       " 'was',\n",
       " 'were',\n",
       " 'be',\n",
       " 'been',\n",
       " 'being',\n",
       " 'have',\n",
       " 'has',\n",
       " 'had',\n",
       " 'having',\n",
       " 'do',\n",
       " 'does',\n",
       " 'did',\n",
       " 'doing',\n",
       " 'a',\n",
       " 'an',\n",
       " 'the',\n",
       " 'and',\n",
       " 'but',\n",
       " 'if',\n",
       " 'or',\n",
       " 'because',\n",
       " 'as',\n",
       " 'until',\n",
       " 'while',\n",
       " 'of',\n",
       " 'at',\n",
       " 'by',\n",
       " 'for',\n",
       " 'with',\n",
       " 'about',\n",
       " 'against',\n",
       " 'between',\n",
       " 'into',\n",
       " 'through',\n",
       " 'during',\n",
       " 'before',\n",
       " 'after',\n",
       " 'above',\n",
       " 'below',\n",
       " 'to',\n",
       " 'from',\n",
       " 'up',\n",
       " 'down',\n",
       " 'in',\n",
       " 'out',\n",
       " 'on',\n",
       " 'off',\n",
       " 'over',\n",
       " 'under',\n",
       " 'again',\n",
       " 'further',\n",
       " 'then',\n",
       " 'once',\n",
       " 'here',\n",
       " 'there',\n",
       " 'when',\n",
       " 'where',\n",
       " 'why',\n",
       " 'how',\n",
       " 'all',\n",
       " 'any',\n",
       " 'both',\n",
       " 'each',\n",
       " 'few',\n",
       " 'more',\n",
       " 'most',\n",
       " 'other',\n",
       " 'some',\n",
       " 'such',\n",
       " 'no',\n",
       " 'nor',\n",
       " 'not',\n",
       " 'only',\n",
       " 'own',\n",
       " 'same',\n",
       " 'so',\n",
       " 'than',\n",
       " 'too',\n",
       " 'very',\n",
       " 's',\n",
       " 't',\n",
       " 'can',\n",
       " 'will',\n",
       " 'just',\n",
       " 'don',\n",
       " \"don't\",\n",
       " 'should',\n",
       " \"should've\",\n",
       " 'now',\n",
       " 'd',\n",
       " 'll',\n",
       " 'm',\n",
       " 'o',\n",
       " 're',\n",
       " 've',\n",
       " 'y',\n",
       " 'ain',\n",
       " 'aren',\n",
       " \"aren't\",\n",
       " 'couldn',\n",
       " \"couldn't\",\n",
       " 'didn',\n",
       " \"didn't\",\n",
       " 'doesn',\n",
       " \"doesn't\",\n",
       " 'hadn',\n",
       " \"hadn't\",\n",
       " 'hasn',\n",
       " \"hasn't\",\n",
       " 'haven',\n",
       " \"haven't\",\n",
       " 'isn',\n",
       " \"isn't\",\n",
       " 'ma',\n",
       " 'mightn',\n",
       " \"mightn't\",\n",
       " 'mustn',\n",
       " \"mustn't\",\n",
       " 'needn',\n",
       " \"needn't\",\n",
       " 'shan',\n",
       " \"shan't\",\n",
       " 'shouldn',\n",
       " \"shouldn't\",\n",
       " 'wasn',\n",
       " \"wasn't\",\n",
       " 'weren',\n",
       " \"weren't\",\n",
       " 'won',\n",
       " \"won't\",\n",
       " 'wouldn',\n",
       " \"wouldn't\"]"
      ]
     },
     "execution_count": 22,
     "metadata": {},
     "output_type": "execute_result"
    }
   ],
   "source": [
    "stopwords.words('english')"
   ]
  },
  {
   "cell_type": "code",
   "execution_count": 23,
   "metadata": {
    "execution": {
     "iopub.execute_input": "2023-06-22T13:40:44.680175Z",
     "iopub.status.busy": "2023-06-22T13:40:44.679797Z",
     "iopub.status.idle": "2023-06-22T13:40:44.693879Z",
     "shell.execute_reply": "2023-06-22T13:40:44.692840Z",
     "shell.execute_reply.started": "2023-06-22T13:40:44.680125Z"
    }
   },
   "outputs": [
    {
     "data": {
      "text/html": [
       "<div>\n",
       "<style scoped>\n",
       "    .dataframe tbody tr th:only-of-type {\n",
       "        vertical-align: middle;\n",
       "    }\n",
       "\n",
       "    .dataframe tbody tr th {\n",
       "        vertical-align: top;\n",
       "    }\n",
       "\n",
       "    .dataframe thead th {\n",
       "        text-align: right;\n",
       "    }\n",
       "</style>\n",
       "<table border=\"1\" class=\"dataframe\">\n",
       "  <thead>\n",
       "    <tr style=\"text-align: right;\">\n",
       "      <th></th>\n",
       "      <th>review</th>\n",
       "      <th>sentiment</th>\n",
       "    </tr>\n",
       "  </thead>\n",
       "  <tbody>\n",
       "    <tr>\n",
       "      <th>35625</th>\n",
       "      <td>i can t believe that someone actually paid to ...</td>\n",
       "      <td>0</td>\n",
       "    </tr>\n",
       "    <tr>\n",
       "      <th>5845</th>\n",
       "      <td>i couldn t believe that the adult swim guys ca...</td>\n",
       "      <td>1</td>\n",
       "    </tr>\n",
       "    <tr>\n",
       "      <th>30960</th>\n",
       "      <td>honestly  one of the worst written  directed a...</td>\n",
       "      <td>0</td>\n",
       "    </tr>\n",
       "    <tr>\n",
       "      <th>1863</th>\n",
       "      <td>the original female convict scorpion is an all...</td>\n",
       "      <td>1</td>\n",
       "    </tr>\n",
       "    <tr>\n",
       "      <th>10682</th>\n",
       "      <td>ok  so this is a complete rip off of the first...</td>\n",
       "      <td>1</td>\n",
       "    </tr>\n",
       "    <tr>\n",
       "      <th>...</th>\n",
       "      <td>...</td>\n",
       "      <td>...</td>\n",
       "    </tr>\n",
       "    <tr>\n",
       "      <th>39918</th>\n",
       "      <td>i went into a video store and looked around to...</td>\n",
       "      <td>0</td>\n",
       "    </tr>\n",
       "    <tr>\n",
       "      <th>36978</th>\n",
       "      <td>i was really disappointed in this movie  those...</td>\n",
       "      <td>0</td>\n",
       "    </tr>\n",
       "    <tr>\n",
       "      <th>41980</th>\n",
       "      <td>sometimes i think that somewhere in the  lifet...</td>\n",
       "      <td>0</td>\n",
       "    </tr>\n",
       "    <tr>\n",
       "      <th>33175</th>\n",
       "      <td>a girl s folly  is a sort of half comedy  hal...</td>\n",
       "      <td>1</td>\n",
       "    </tr>\n",
       "    <tr>\n",
       "      <th>20911</th>\n",
       "      <td>got to be one of the best political satires i ...</td>\n",
       "      <td>1</td>\n",
       "    </tr>\n",
       "  </tbody>\n",
       "</table>\n",
       "<p>10000 rows × 2 columns</p>\n",
       "</div>"
      ],
      "text/plain": [
       "                                                  review  sentiment\n",
       "35625  i can t believe that someone actually paid to ...          0\n",
       "5845   i couldn t believe that the adult swim guys ca...          1\n",
       "30960  honestly  one of the worst written  directed a...          0\n",
       "1863   the original female convict scorpion is an all...          1\n",
       "10682  ok  so this is a complete rip off of the first...          1\n",
       "...                                                  ...        ...\n",
       "39918  i went into a video store and looked around to...          0\n",
       "36978  i was really disappointed in this movie  those...          0\n",
       "41980  sometimes i think that somewhere in the  lifet...          0\n",
       "33175   a girl s folly  is a sort of half comedy  hal...          1\n",
       "20911  got to be one of the best political satires i ...          1\n",
       "\n",
       "[10000 rows x 2 columns]"
      ]
     },
     "execution_count": 23,
     "metadata": {},
     "output_type": "execute_result"
    }
   ],
   "source": [
    "df"
   ]
  },
  {
   "cell_type": "code",
   "execution_count": 24,
   "metadata": {
    "execution": {
     "iopub.execute_input": "2023-06-22T13:40:45.766950Z",
     "iopub.status.busy": "2023-06-22T13:40:45.766554Z",
     "iopub.status.idle": "2023-06-22T13:40:45.772547Z",
     "shell.execute_reply": "2023-06-22T13:40:45.771650Z",
     "shell.execute_reply.started": "2023-06-22T13:40:45.766894Z"
    }
   },
   "outputs": [],
   "source": [
    "\n",
    "def remove_stopwords(text):\n",
    "    x=[]\n",
    "    for i in text.split():\n",
    "        \n",
    "        if i not in stopwords.words('english'):\n",
    "            x.append(i)\n",
    "    y=x[:]\n",
    "    x.clear()\n",
    "    return y"
   ]
  },
  {
   "cell_type": "code",
   "execution_count": 25,
   "metadata": {
    "execution": {
     "iopub.execute_input": "2023-06-22T13:40:47.066627Z",
     "iopub.status.busy": "2023-06-22T13:40:47.066264Z",
     "iopub.status.idle": "2023-06-22T13:46:05.750277Z",
     "shell.execute_reply": "2023-06-22T13:46:05.749125Z",
     "shell.execute_reply.started": "2023-06-22T13:40:47.066585Z"
    }
   },
   "outputs": [],
   "source": [
    "df['review']=df['review'].apply(remove_stopwords)"
   ]
  },
  {
   "cell_type": "code",
   "execution_count": 26,
   "metadata": {
    "execution": {
     "iopub.execute_input": "2023-06-22T13:46:25.374824Z",
     "iopub.status.busy": "2023-06-22T13:46:25.374364Z",
     "iopub.status.idle": "2023-06-22T13:46:25.408180Z",
     "shell.execute_reply": "2023-06-22T13:46:25.407050Z",
     "shell.execute_reply.started": "2023-06-22T13:46:25.374756Z"
    }
   },
   "outputs": [
    {
     "data": {
      "text/html": [
       "<div>\n",
       "<style scoped>\n",
       "    .dataframe tbody tr th:only-of-type {\n",
       "        vertical-align: middle;\n",
       "    }\n",
       "\n",
       "    .dataframe tbody tr th {\n",
       "        vertical-align: top;\n",
       "    }\n",
       "\n",
       "    .dataframe thead th {\n",
       "        text-align: right;\n",
       "    }\n",
       "</style>\n",
       "<table border=\"1\" class=\"dataframe\">\n",
       "  <thead>\n",
       "    <tr style=\"text-align: right;\">\n",
       "      <th></th>\n",
       "      <th>review</th>\n",
       "      <th>sentiment</th>\n",
       "    </tr>\n",
       "  </thead>\n",
       "  <tbody>\n",
       "    <tr>\n",
       "      <th>35625</th>\n",
       "      <td>[believe, someone, actually, paid, film, made,...</td>\n",
       "      <td>0</td>\n",
       "    </tr>\n",
       "    <tr>\n",
       "      <th>5845</th>\n",
       "      <td>[believe, adult, swim, guys, came, character, ...</td>\n",
       "      <td>1</td>\n",
       "    </tr>\n",
       "    <tr>\n",
       "      <th>30960</th>\n",
       "      <td>[honestly, one, worst, written, directed, acte...</td>\n",
       "      <td>0</td>\n",
       "    </tr>\n",
       "    <tr>\n",
       "      <th>1863</th>\n",
       "      <td>[original, female, convict, scorpion, time, ma...</td>\n",
       "      <td>1</td>\n",
       "    </tr>\n",
       "    <tr>\n",
       "      <th>10682</th>\n",
       "      <td>[ok, complete, rip, first, karate, kid, howeve...</td>\n",
       "      <td>1</td>\n",
       "    </tr>\n",
       "    <tr>\n",
       "      <th>...</th>\n",
       "      <td>...</td>\n",
       "      <td>...</td>\n",
       "    </tr>\n",
       "    <tr>\n",
       "      <th>39918</th>\n",
       "      <td>[went, video, store, looked, around, find, hor...</td>\n",
       "      <td>0</td>\n",
       "    </tr>\n",
       "    <tr>\n",
       "      <th>36978</th>\n",
       "      <td>[really, disappointed, movie, voted, thing, 10...</td>\n",
       "      <td>0</td>\n",
       "    </tr>\n",
       "    <tr>\n",
       "      <th>41980</th>\n",
       "      <td>[sometimes, think, somewhere, lifetime, channe...</td>\n",
       "      <td>0</td>\n",
       "    </tr>\n",
       "    <tr>\n",
       "      <th>33175</th>\n",
       "      <td>[girl, folly, sort, half, comedy, half, mockum...</td>\n",
       "      <td>1</td>\n",
       "    </tr>\n",
       "    <tr>\n",
       "      <th>20911</th>\n",
       "      <td>[got, one, best, political, satires, seen, dat...</td>\n",
       "      <td>1</td>\n",
       "    </tr>\n",
       "  </tbody>\n",
       "</table>\n",
       "<p>10000 rows × 2 columns</p>\n",
       "</div>"
      ],
      "text/plain": [
       "                                                  review  sentiment\n",
       "35625  [believe, someone, actually, paid, film, made,...          0\n",
       "5845   [believe, adult, swim, guys, came, character, ...          1\n",
       "30960  [honestly, one, worst, written, directed, acte...          0\n",
       "1863   [original, female, convict, scorpion, time, ma...          1\n",
       "10682  [ok, complete, rip, first, karate, kid, howeve...          1\n",
       "...                                                  ...        ...\n",
       "39918  [went, video, store, looked, around, find, hor...          0\n",
       "36978  [really, disappointed, movie, voted, thing, 10...          0\n",
       "41980  [sometimes, think, somewhere, lifetime, channe...          0\n",
       "33175  [girl, folly, sort, half, comedy, half, mockum...          1\n",
       "20911  [got, one, best, political, satires, seen, dat...          1\n",
       "\n",
       "[10000 rows x 2 columns]"
      ]
     },
     "execution_count": 26,
     "metadata": {},
     "output_type": "execute_result"
    }
   ],
   "source": [
    "df"
   ]
  },
  {
   "cell_type": "code",
   "execution_count": 27,
   "metadata": {
    "execution": {
     "iopub.execute_input": "2023-06-22T13:46:30.568891Z",
     "iopub.status.busy": "2023-06-22T13:46:30.568472Z",
     "iopub.status.idle": "2023-06-22T13:46:30.574116Z",
     "shell.execute_reply": "2023-06-22T13:46:30.572751Z",
     "shell.execute_reply.started": "2023-06-22T13:46:30.568827Z"
    }
   },
   "outputs": [],
   "source": [
    "# Perform stemming\n",
    "\n",
    "from nltk.stem.porter import PorterStemmer\n",
    "ps=PorterStemmer()"
   ]
  },
  {
   "cell_type": "code",
   "execution_count": 28,
   "metadata": {
    "execution": {
     "iopub.execute_input": "2023-06-22T13:46:33.971017Z",
     "iopub.status.busy": "2023-06-22T13:46:33.970292Z",
     "iopub.status.idle": "2023-06-22T13:46:33.976507Z",
     "shell.execute_reply": "2023-06-22T13:46:33.975386Z",
     "shell.execute_reply.started": "2023-06-22T13:46:33.970957Z"
    }
   },
   "outputs": [],
   "source": [
    "y=[]\n",
    "def stem_words(text):\n",
    "    for i in text:\n",
    "        y.append(ps.stem(i))\n",
    "    z=y[:]\n",
    "    y.clear()\n",
    "    return z\n",
    "        "
   ]
  },
  {
   "cell_type": "code",
   "execution_count": 29,
   "metadata": {
    "execution": {
     "iopub.execute_input": "2023-06-22T13:46:35.988921Z",
     "iopub.status.busy": "2023-06-22T13:46:35.988482Z",
     "iopub.status.idle": "2023-06-22T13:46:35.997383Z",
     "shell.execute_reply": "2023-06-22T13:46:35.996128Z",
     "shell.execute_reply.started": "2023-06-22T13:46:35.988853Z"
    }
   },
   "outputs": [
    {
     "data": {
      "text/plain": [
       "['i', 'love', 'love', 'it']"
      ]
     },
     "execution_count": 29,
     "metadata": {},
     "output_type": "execute_result"
    }
   ],
   "source": [
    "stem_words(['I','loved','loving','it'])"
   ]
  },
  {
   "cell_type": "code",
   "execution_count": 30,
   "metadata": {
    "execution": {
     "iopub.execute_input": "2023-06-22T13:46:37.189517Z",
     "iopub.status.busy": "2023-06-22T13:46:37.188787Z",
     "iopub.status.idle": "2023-06-22T13:47:12.105368Z",
     "shell.execute_reply": "2023-06-22T13:47:12.104247Z",
     "shell.execute_reply.started": "2023-06-22T13:46:37.189446Z"
    }
   },
   "outputs": [],
   "source": [
    "df['review']=df['review'].apply(stem_words)"
   ]
  },
  {
   "cell_type": "code",
   "execution_count": 31,
   "metadata": {
    "execution": {
     "iopub.execute_input": "2023-06-22T13:48:05.682935Z",
     "iopub.status.busy": "2023-06-22T13:48:05.682469Z",
     "iopub.status.idle": "2023-06-22T13:48:05.711737Z",
     "shell.execute_reply": "2023-06-22T13:48:05.710434Z",
     "shell.execute_reply.started": "2023-06-22T13:48:05.682859Z"
    }
   },
   "outputs": [
    {
     "data": {
      "text/html": [
       "<div>\n",
       "<style scoped>\n",
       "    .dataframe tbody tr th:only-of-type {\n",
       "        vertical-align: middle;\n",
       "    }\n",
       "\n",
       "    .dataframe tbody tr th {\n",
       "        vertical-align: top;\n",
       "    }\n",
       "\n",
       "    .dataframe thead th {\n",
       "        text-align: right;\n",
       "    }\n",
       "</style>\n",
       "<table border=\"1\" class=\"dataframe\">\n",
       "  <thead>\n",
       "    <tr style=\"text-align: right;\">\n",
       "      <th></th>\n",
       "      <th>review</th>\n",
       "      <th>sentiment</th>\n",
       "    </tr>\n",
       "  </thead>\n",
       "  <tbody>\n",
       "    <tr>\n",
       "      <th>35625</th>\n",
       "      <td>[believ, someon, actual, paid, film, made, stu...</td>\n",
       "      <td>0</td>\n",
       "    </tr>\n",
       "    <tr>\n",
       "      <th>5845</th>\n",
       "      <td>[believ, adult, swim, guy, came, charact, laug...</td>\n",
       "      <td>1</td>\n",
       "    </tr>\n",
       "    <tr>\n",
       "      <th>30960</th>\n",
       "      <td>[honestli, one, worst, written, direct, act, m...</td>\n",
       "      <td>0</td>\n",
       "    </tr>\n",
       "    <tr>\n",
       "      <th>1863</th>\n",
       "      <td>[origin, femal, convict, scorpion, time, maste...</td>\n",
       "      <td>1</td>\n",
       "    </tr>\n",
       "    <tr>\n",
       "      <th>10682</th>\n",
       "      <td>[ok, complet, rip, first, karat, kid, howev, t...</td>\n",
       "      <td>1</td>\n",
       "    </tr>\n",
       "    <tr>\n",
       "      <th>...</th>\n",
       "      <td>...</td>\n",
       "      <td>...</td>\n",
       "    </tr>\n",
       "    <tr>\n",
       "      <th>39918</th>\n",
       "      <td>[went, video, store, look, around, find, horro...</td>\n",
       "      <td>0</td>\n",
       "    </tr>\n",
       "    <tr>\n",
       "      <th>36978</th>\n",
       "      <td>[realli, disappoint, movi, vote, thing, 10, sc...</td>\n",
       "      <td>0</td>\n",
       "    </tr>\n",
       "    <tr>\n",
       "      <th>41980</th>\n",
       "      <td>[sometim, think, somewher, lifetim, channel, o...</td>\n",
       "      <td>0</td>\n",
       "    </tr>\n",
       "    <tr>\n",
       "      <th>33175</th>\n",
       "      <td>[girl, folli, sort, half, comedi, half, mockum...</td>\n",
       "      <td>1</td>\n",
       "    </tr>\n",
       "    <tr>\n",
       "      <th>20911</th>\n",
       "      <td>[got, one, best, polit, satir, seen, date, exc...</td>\n",
       "      <td>1</td>\n",
       "    </tr>\n",
       "  </tbody>\n",
       "</table>\n",
       "<p>10000 rows × 2 columns</p>\n",
       "</div>"
      ],
      "text/plain": [
       "                                                  review  sentiment\n",
       "35625  [believ, someon, actual, paid, film, made, stu...          0\n",
       "5845   [believ, adult, swim, guy, came, charact, laug...          1\n",
       "30960  [honestli, one, worst, written, direct, act, m...          0\n",
       "1863   [origin, femal, convict, scorpion, time, maste...          1\n",
       "10682  [ok, complet, rip, first, karat, kid, howev, t...          1\n",
       "...                                                  ...        ...\n",
       "39918  [went, video, store, look, around, find, horro...          0\n",
       "36978  [realli, disappoint, movi, vote, thing, 10, sc...          0\n",
       "41980  [sometim, think, somewher, lifetim, channel, o...          0\n",
       "33175  [girl, folli, sort, half, comedi, half, mockum...          1\n",
       "20911  [got, one, best, polit, satir, seen, date, exc...          1\n",
       "\n",
       "[10000 rows x 2 columns]"
      ]
     },
     "execution_count": 31,
     "metadata": {},
     "output_type": "execute_result"
    }
   ],
   "source": [
    "df"
   ]
  },
  {
   "cell_type": "code",
   "execution_count": 32,
   "metadata": {
    "execution": {
     "iopub.execute_input": "2023-06-22T13:48:08.442959Z",
     "iopub.status.busy": "2023-06-22T13:48:08.442540Z",
     "iopub.status.idle": "2023-06-22T13:48:08.447705Z",
     "shell.execute_reply": "2023-06-22T13:48:08.446558Z",
     "shell.execute_reply.started": "2023-06-22T13:48:08.442894Z"
    }
   },
   "outputs": [],
   "source": [
    "# Join back\n",
    "\n",
    "def join_back(list_input):\n",
    "    return \" \".join(list_input)\n",
    "    "
   ]
  },
  {
   "cell_type": "code",
   "execution_count": 33,
   "metadata": {
    "execution": {
     "iopub.execute_input": "2023-06-22T13:48:09.631867Z",
     "iopub.status.busy": "2023-06-22T13:48:09.631304Z",
     "iopub.status.idle": "2023-06-22T13:48:09.720453Z",
     "shell.execute_reply": "2023-06-22T13:48:09.719318Z",
     "shell.execute_reply.started": "2023-06-22T13:48:09.631643Z"
    }
   },
   "outputs": [],
   "source": [
    "df['review']=df['review'].apply(join_back)"
   ]
  },
  {
   "cell_type": "code",
   "execution_count": 34,
   "metadata": {
    "execution": {
     "iopub.execute_input": "2023-06-22T13:48:11.271520Z",
     "iopub.status.busy": "2023-06-22T13:48:11.271074Z",
     "iopub.status.idle": "2023-06-22T13:48:11.280087Z",
     "shell.execute_reply": "2023-06-22T13:48:11.279042Z",
     "shell.execute_reply.started": "2023-06-22T13:48:11.271452Z"
    }
   },
   "outputs": [
    {
     "data": {
      "text/plain": [
       "35625    believ someon actual paid film made stupid unr...\n",
       "5845     believ adult swim guy came charact laugh day t...\n",
       "30960    honestli one worst written direct act movi eve...\n",
       "1863     origin femal convict scorpion time masterpiec ...\n",
       "10682    ok complet rip first karat kid howev think nev...\n",
       "                               ...                        \n",
       "39918    went video store look around find horror movi ...\n",
       "36978    realli disappoint movi vote thing 10 screw los...\n",
       "41980    sometim think somewher lifetim channel offic c...\n",
       "33175    girl folli sort half comedi half mockumentari ...\n",
       "20911    got one best polit satir seen date excel perfo...\n",
       "Name: review, Length: 10000, dtype: object"
      ]
     },
     "execution_count": 34,
     "metadata": {},
     "output_type": "execute_result"
    }
   ],
   "source": [
    "df['review']"
   ]
  },
  {
   "cell_type": "code",
   "execution_count": 35,
   "metadata": {
    "execution": {
     "iopub.execute_input": "2023-06-22T13:48:14.205084Z",
     "iopub.status.busy": "2023-06-22T13:48:14.204497Z",
     "iopub.status.idle": "2023-06-22T13:48:14.212203Z",
     "shell.execute_reply": "2023-06-22T13:48:14.210669Z",
     "shell.execute_reply.started": "2023-06-22T13:48:14.205007Z"
    }
   },
   "outputs": [],
   "source": [
    "X=df.iloc[:,0:1].values"
   ]
  },
  {
   "cell_type": "code",
   "execution_count": 36,
   "metadata": {
    "execution": {
     "iopub.execute_input": "2023-06-22T13:48:16.685830Z",
     "iopub.status.busy": "2023-06-22T13:48:16.685437Z",
     "iopub.status.idle": "2023-06-22T13:48:16.692162Z",
     "shell.execute_reply": "2023-06-22T13:48:16.691077Z",
     "shell.execute_reply.started": "2023-06-22T13:48:16.685774Z"
    }
   },
   "outputs": [
    {
     "data": {
      "text/plain": [
       "(10000, 1)"
      ]
     },
     "execution_count": 36,
     "metadata": {},
     "output_type": "execute_result"
    }
   ],
   "source": [
    "X.shape"
   ]
  },
  {
   "cell_type": "code",
   "execution_count": 37,
   "metadata": {
    "execution": {
     "iopub.execute_input": "2023-06-22T13:48:22.732927Z",
     "iopub.status.busy": "2023-06-22T13:48:22.732491Z",
     "iopub.status.idle": "2023-06-22T13:48:22.737627Z",
     "shell.execute_reply": "2023-06-22T13:48:22.736641Z",
     "shell.execute_reply.started": "2023-06-22T13:48:22.732863Z"
    }
   },
   "outputs": [],
   "source": [
    "from sklearn.feature_extraction.text import CountVectorizer\n",
    "cv=CountVectorizer(max_features=2500)"
   ]
  },
  {
   "cell_type": "code",
   "execution_count": 38,
   "metadata": {
    "execution": {
     "iopub.execute_input": "2023-06-22T13:48:24.823805Z",
     "iopub.status.busy": "2023-06-22T13:48:24.823367Z",
     "iopub.status.idle": "2023-06-22T13:48:26.209679Z",
     "shell.execute_reply": "2023-06-22T13:48:26.208866Z",
     "shell.execute_reply.started": "2023-06-22T13:48:24.823736Z"
    }
   },
   "outputs": [],
   "source": [
    "X=cv.fit_transform(df['review']).toarray()"
   ]
  },
  {
   "cell_type": "code",
   "execution_count": 39,
   "metadata": {
    "execution": {
     "iopub.execute_input": "2023-06-22T13:48:27.690276Z",
     "iopub.status.busy": "2023-06-22T13:48:27.689912Z",
     "iopub.status.idle": "2023-06-22T13:48:27.696918Z",
     "shell.execute_reply": "2023-06-22T13:48:27.695728Z",
     "shell.execute_reply.started": "2023-06-22T13:48:27.690236Z"
    }
   },
   "outputs": [
    {
     "data": {
      "text/plain": [
       "(10000, 2500)"
      ]
     },
     "execution_count": 39,
     "metadata": {},
     "output_type": "execute_result"
    }
   ],
   "source": [
    "X.shape"
   ]
  },
  {
   "cell_type": "code",
   "execution_count": 40,
   "metadata": {
    "execution": {
     "iopub.execute_input": "2023-06-22T13:48:28.618252Z",
     "iopub.status.busy": "2023-06-22T13:48:28.617872Z",
     "iopub.status.idle": "2023-06-22T13:48:28.626868Z",
     "shell.execute_reply": "2023-06-22T13:48:28.625873Z",
     "shell.execute_reply.started": "2023-06-22T13:48:28.618200Z"
    }
   },
   "outputs": [
    {
     "data": {
      "text/plain": [
       "0.0192"
      ]
     },
     "execution_count": 40,
     "metadata": {},
     "output_type": "execute_result"
    }
   ],
   "source": [
    "X[0].mean()"
   ]
  },
  {
   "cell_type": "code",
   "execution_count": 41,
   "metadata": {
    "execution": {
     "iopub.execute_input": "2023-06-22T13:48:40.770319Z",
     "iopub.status.busy": "2023-06-22T13:48:40.769929Z",
     "iopub.status.idle": "2023-06-22T13:48:40.776785Z",
     "shell.execute_reply": "2023-06-22T13:48:40.775516Z",
     "shell.execute_reply.started": "2023-06-22T13:48:40.770268Z"
    }
   },
   "outputs": [],
   "source": [
    "y=df.iloc[:,-1].values"
   ]
  },
  {
   "cell_type": "code",
   "execution_count": 42,
   "metadata": {
    "execution": {
     "iopub.execute_input": "2023-06-22T13:48:41.957175Z",
     "iopub.status.busy": "2023-06-22T13:48:41.956805Z",
     "iopub.status.idle": "2023-06-22T13:48:41.964628Z",
     "shell.execute_reply": "2023-06-22T13:48:41.963080Z",
     "shell.execute_reply.started": "2023-06-22T13:48:41.957125Z"
    }
   },
   "outputs": [
    {
     "data": {
      "text/plain": [
       "(10000,)"
      ]
     },
     "execution_count": 42,
     "metadata": {},
     "output_type": "execute_result"
    }
   ],
   "source": [
    "y.shape"
   ]
  },
  {
   "cell_type": "code",
   "execution_count": 43,
   "metadata": {
    "execution": {
     "iopub.execute_input": "2023-06-22T13:48:44.777092Z",
     "iopub.status.busy": "2023-06-22T13:48:44.776673Z",
     "iopub.status.idle": "2023-06-22T13:48:44.781515Z",
     "shell.execute_reply": "2023-06-22T13:48:44.780267Z",
     "shell.execute_reply.started": "2023-06-22T13:48:44.777037Z"
    }
   },
   "outputs": [],
   "source": [
    "# X,y\n",
    "# Training set\n",
    "# Test Set(Already know the result)"
   ]
  },
  {
   "cell_type": "code",
   "execution_count": 44,
   "metadata": {
    "execution": {
     "iopub.execute_input": "2023-06-22T13:48:47.420446Z",
     "iopub.status.busy": "2023-06-22T13:48:47.420050Z",
     "iopub.status.idle": "2023-06-22T13:48:47.535130Z",
     "shell.execute_reply": "2023-06-22T13:48:47.534086Z",
     "shell.execute_reply.started": "2023-06-22T13:48:47.420393Z"
    }
   },
   "outputs": [],
   "source": [
    "from sklearn.model_selection import train_test_split\n",
    "\n",
    "X_train, X_test,y_train,y_test=train_test_split(X,y,test_size=0.2)"
   ]
  },
  {
   "cell_type": "code",
   "execution_count": 45,
   "metadata": {
    "execution": {
     "iopub.execute_input": "2023-06-22T13:48:48.891988Z",
     "iopub.status.busy": "2023-06-22T13:48:48.891370Z",
     "iopub.status.idle": "2023-06-22T13:48:48.899907Z",
     "shell.execute_reply": "2023-06-22T13:48:48.898588Z",
     "shell.execute_reply.started": "2023-06-22T13:48:48.891901Z"
    }
   },
   "outputs": [
    {
     "data": {
      "text/plain": [
       "(8000, 2500)"
      ]
     },
     "execution_count": 45,
     "metadata": {},
     "output_type": "execute_result"
    }
   ],
   "source": [
    "X_train.shape"
   ]
  },
  {
   "cell_type": "code",
   "execution_count": 46,
   "metadata": {
    "execution": {
     "iopub.execute_input": "2023-06-22T13:48:50.029123Z",
     "iopub.status.busy": "2023-06-22T13:48:50.028718Z",
     "iopub.status.idle": "2023-06-22T13:48:50.035665Z",
     "shell.execute_reply": "2023-06-22T13:48:50.034451Z",
     "shell.execute_reply.started": "2023-06-22T13:48:50.029070Z"
    }
   },
   "outputs": [
    {
     "data": {
      "text/plain": [
       "(2000, 2500)"
      ]
     },
     "execution_count": 46,
     "metadata": {},
     "output_type": "execute_result"
    }
   ],
   "source": [
    "X_test.shape"
   ]
  },
  {
   "cell_type": "code",
   "execution_count": 47,
   "metadata": {
    "execution": {
     "iopub.execute_input": "2023-06-22T13:48:50.953960Z",
     "iopub.status.busy": "2023-06-22T13:48:50.953527Z",
     "iopub.status.idle": "2023-06-22T13:48:50.960573Z",
     "shell.execute_reply": "2023-06-22T13:48:50.959321Z",
     "shell.execute_reply.started": "2023-06-22T13:48:50.953897Z"
    }
   },
   "outputs": [
    {
     "data": {
      "text/plain": [
       "(8000,)"
      ]
     },
     "execution_count": 47,
     "metadata": {},
     "output_type": "execute_result"
    }
   ],
   "source": [
    "y_train.shape"
   ]
  },
  {
   "cell_type": "code",
   "execution_count": 48,
   "metadata": {
    "execution": {
     "iopub.execute_input": "2023-06-22T13:48:51.940014Z",
     "iopub.status.busy": "2023-06-22T13:48:51.939517Z",
     "iopub.status.idle": "2023-06-22T13:48:51.946641Z",
     "shell.execute_reply": "2023-06-22T13:48:51.945466Z",
     "shell.execute_reply.started": "2023-06-22T13:48:51.939950Z"
    }
   },
   "outputs": [
    {
     "data": {
      "text/plain": [
       "(2000,)"
      ]
     },
     "execution_count": 48,
     "metadata": {},
     "output_type": "execute_result"
    }
   ],
   "source": [
    "y_test.shape"
   ]
  },
  {
   "cell_type": "code",
   "execution_count": 49,
   "metadata": {
    "execution": {
     "iopub.execute_input": "2023-06-22T13:48:53.118073Z",
     "iopub.status.busy": "2023-06-22T13:48:53.117627Z",
     "iopub.status.idle": "2023-06-22T13:48:53.125112Z",
     "shell.execute_reply": "2023-06-22T13:48:53.123939Z",
     "shell.execute_reply.started": "2023-06-22T13:48:53.118013Z"
    }
   },
   "outputs": [],
   "source": [
    "from sklearn.naive_bayes import GaussianNB,MultinomialNB,BernoulliNB"
   ]
  },
  {
   "cell_type": "code",
   "execution_count": 50,
   "metadata": {
    "execution": {
     "iopub.execute_input": "2023-06-22T13:48:54.584606Z",
     "iopub.status.busy": "2023-06-22T13:48:54.584227Z",
     "iopub.status.idle": "2023-06-22T13:48:54.589562Z",
     "shell.execute_reply": "2023-06-22T13:48:54.588220Z",
     "shell.execute_reply.started": "2023-06-22T13:48:54.584565Z"
    }
   },
   "outputs": [],
   "source": [
    "clf1=GaussianNB()\n",
    "clf2=MultinomialNB()\n",
    "clf3=BernoulliNB()"
   ]
  },
  {
   "cell_type": "code",
   "execution_count": 51,
   "metadata": {
    "execution": {
     "iopub.execute_input": "2023-06-22T13:48:56.753419Z",
     "iopub.status.busy": "2023-06-22T13:48:56.753031Z",
     "iopub.status.idle": "2023-06-22T13:48:57.571751Z",
     "shell.execute_reply": "2023-06-22T13:48:57.570586Z",
     "shell.execute_reply.started": "2023-06-22T13:48:56.753376Z"
    }
   },
   "outputs": [
    {
     "data": {
      "text/html": [
       "<style>#sk-container-id-1 {color: black;}#sk-container-id-1 pre{padding: 0;}#sk-container-id-1 div.sk-toggleable {background-color: white;}#sk-container-id-1 label.sk-toggleable__label {cursor: pointer;display: block;width: 100%;margin-bottom: 0;padding: 0.3em;box-sizing: border-box;text-align: center;}#sk-container-id-1 label.sk-toggleable__label-arrow:before {content: \"▸\";float: left;margin-right: 0.25em;color: #696969;}#sk-container-id-1 label.sk-toggleable__label-arrow:hover:before {color: black;}#sk-container-id-1 div.sk-estimator:hover label.sk-toggleable__label-arrow:before {color: black;}#sk-container-id-1 div.sk-toggleable__content {max-height: 0;max-width: 0;overflow: hidden;text-align: left;background-color: #f0f8ff;}#sk-container-id-1 div.sk-toggleable__content pre {margin: 0.2em;color: black;border-radius: 0.25em;background-color: #f0f8ff;}#sk-container-id-1 input.sk-toggleable__control:checked~div.sk-toggleable__content {max-height: 200px;max-width: 100%;overflow: auto;}#sk-container-id-1 input.sk-toggleable__control:checked~label.sk-toggleable__label-arrow:before {content: \"▾\";}#sk-container-id-1 div.sk-estimator input.sk-toggleable__control:checked~label.sk-toggleable__label {background-color: #d4ebff;}#sk-container-id-1 div.sk-label input.sk-toggleable__control:checked~label.sk-toggleable__label {background-color: #d4ebff;}#sk-container-id-1 input.sk-hidden--visually {border: 0;clip: rect(1px 1px 1px 1px);clip: rect(1px, 1px, 1px, 1px);height: 1px;margin: -1px;overflow: hidden;padding: 0;position: absolute;width: 1px;}#sk-container-id-1 div.sk-estimator {font-family: monospace;background-color: #f0f8ff;border: 1px dotted black;border-radius: 0.25em;box-sizing: border-box;margin-bottom: 0.5em;}#sk-container-id-1 div.sk-estimator:hover {background-color: #d4ebff;}#sk-container-id-1 div.sk-parallel-item::after {content: \"\";width: 100%;border-bottom: 1px solid gray;flex-grow: 1;}#sk-container-id-1 div.sk-label:hover label.sk-toggleable__label {background-color: #d4ebff;}#sk-container-id-1 div.sk-serial::before {content: \"\";position: absolute;border-left: 1px solid gray;box-sizing: border-box;top: 0;bottom: 0;left: 50%;z-index: 0;}#sk-container-id-1 div.sk-serial {display: flex;flex-direction: column;align-items: center;background-color: white;padding-right: 0.2em;padding-left: 0.2em;position: relative;}#sk-container-id-1 div.sk-item {position: relative;z-index: 1;}#sk-container-id-1 div.sk-parallel {display: flex;align-items: stretch;justify-content: center;background-color: white;position: relative;}#sk-container-id-1 div.sk-item::before, #sk-container-id-1 div.sk-parallel-item::before {content: \"\";position: absolute;border-left: 1px solid gray;box-sizing: border-box;top: 0;bottom: 0;left: 50%;z-index: -1;}#sk-container-id-1 div.sk-parallel-item {display: flex;flex-direction: column;z-index: 1;position: relative;background-color: white;}#sk-container-id-1 div.sk-parallel-item:first-child::after {align-self: flex-end;width: 50%;}#sk-container-id-1 div.sk-parallel-item:last-child::after {align-self: flex-start;width: 50%;}#sk-container-id-1 div.sk-parallel-item:only-child::after {width: 0;}#sk-container-id-1 div.sk-dashed-wrapped {border: 1px dashed gray;margin: 0 0.4em 0.5em 0.4em;box-sizing: border-box;padding-bottom: 0.4em;background-color: white;}#sk-container-id-1 div.sk-label label {font-family: monospace;font-weight: bold;display: inline-block;line-height: 1.2em;}#sk-container-id-1 div.sk-label-container {text-align: center;}#sk-container-id-1 div.sk-container {/* jupyter's `normalize.less` sets `[hidden] { display: none; }` but bootstrap.min.css set `[hidden] { display: none !important; }` so we also need the `!important` here to be able to override the default hidden behavior on the sphinx rendered scikit-learn.org. See: https://github.com/scikit-learn/scikit-learn/issues/21755 */display: inline-block !important;position: relative;}#sk-container-id-1 div.sk-text-repr-fallback {display: none;}</style><div id=\"sk-container-id-1\" class=\"sk-top-container\"><div class=\"sk-text-repr-fallback\"><pre>BernoulliNB()</pre><b>In a Jupyter environment, please rerun this cell to show the HTML representation or trust the notebook. <br />On GitHub, the HTML representation is unable to render, please try loading this page with nbviewer.org.</b></div><div class=\"sk-container\" hidden><div class=\"sk-item\"><div class=\"sk-estimator sk-toggleable\"><input class=\"sk-toggleable__control sk-hidden--visually\" id=\"sk-estimator-id-1\" type=\"checkbox\" checked><label for=\"sk-estimator-id-1\" class=\"sk-toggleable__label sk-toggleable__label-arrow\">BernoulliNB</label><div class=\"sk-toggleable__content\"><pre>BernoulliNB()</pre></div></div></div></div></div>"
      ],
      "text/plain": [
       "BernoulliNB()"
      ]
     },
     "execution_count": 51,
     "metadata": {},
     "output_type": "execute_result"
    }
   ],
   "source": [
    "clf1.fit(X_train,y_train)\n",
    "clf2.fit(X_train,y_train)\n",
    "clf3.fit(X_train,y_train)"
   ]
  },
  {
   "cell_type": "code",
   "execution_count": 52,
   "metadata": {
    "execution": {
     "iopub.execute_input": "2023-06-22T13:48:58.456881Z",
     "iopub.status.busy": "2023-06-22T13:48:58.456309Z",
     "iopub.status.idle": "2023-06-22T13:48:58.657879Z",
     "shell.execute_reply": "2023-06-22T13:48:58.656860Z",
     "shell.execute_reply.started": "2023-06-22T13:48:58.456647Z"
    }
   },
   "outputs": [],
   "source": [
    "y_pred1=clf1.predict(X_test)\n",
    "y_pred2=clf2.predict(X_test)\n",
    "y_pred3=clf3.predict(X_test)"
   ]
  },
  {
   "cell_type": "code",
   "execution_count": 53,
   "metadata": {
    "execution": {
     "iopub.execute_input": "2023-06-22T13:49:00.156529Z",
     "iopub.status.busy": "2023-06-22T13:49:00.156136Z",
     "iopub.status.idle": "2023-06-22T13:49:00.164029Z",
     "shell.execute_reply": "2023-06-22T13:49:00.162249Z",
     "shell.execute_reply.started": "2023-06-22T13:49:00.156486Z"
    }
   },
   "outputs": [
    {
     "data": {
      "text/plain": [
       "(2000,)"
      ]
     },
     "execution_count": 53,
     "metadata": {},
     "output_type": "execute_result"
    }
   ],
   "source": [
    "y_test.shape"
   ]
  },
  {
   "cell_type": "code",
   "execution_count": 54,
   "metadata": {
    "execution": {
     "iopub.execute_input": "2023-06-22T13:49:01.069122Z",
     "iopub.status.busy": "2023-06-22T13:49:01.068710Z",
     "iopub.status.idle": "2023-06-22T13:49:01.076194Z",
     "shell.execute_reply": "2023-06-22T13:49:01.074541Z",
     "shell.execute_reply.started": "2023-06-22T13:49:01.069064Z"
    }
   },
   "outputs": [
    {
     "data": {
      "text/plain": [
       "(2000,)"
      ]
     },
     "execution_count": 54,
     "metadata": {},
     "output_type": "execute_result"
    }
   ],
   "source": [
    "y_pred1.shape"
   ]
  },
  {
   "cell_type": "code",
   "execution_count": 55,
   "metadata": {
    "execution": {
     "iopub.execute_input": "2023-06-22T13:49:01.949897Z",
     "iopub.status.busy": "2023-06-22T13:49:01.949456Z",
     "iopub.status.idle": "2023-06-22T13:49:01.955095Z",
     "shell.execute_reply": "2023-06-22T13:49:01.953742Z",
     "shell.execute_reply.started": "2023-06-22T13:49:01.949831Z"
    }
   },
   "outputs": [],
   "source": [
    "from sklearn.metrics import accuracy_score"
   ]
  },
  {
   "cell_type": "code",
   "execution_count": 56,
   "metadata": {
    "execution": {
     "iopub.execute_input": "2023-06-22T13:49:03.010975Z",
     "iopub.status.busy": "2023-06-22T13:49:03.010566Z",
     "iopub.status.idle": "2023-06-22T13:49:03.021301Z",
     "shell.execute_reply": "2023-06-22T13:49:03.020458Z",
     "shell.execute_reply.started": "2023-06-22T13:49:03.010922Z"
    }
   },
   "outputs": [
    {
     "name": "stdout",
     "output_type": "stream",
     "text": [
      "Gaussian 0.7385\n",
      "Multinomial 0.842\n",
      "Bernaulli 0.839\n"
     ]
    }
   ],
   "source": [
    "print(\"Gaussian\",accuracy_score(y_test,y_pred1))\n",
    "print(\"Multinomial\",accuracy_score(y_test,y_pred2))\n",
    "print(\"Bernaulli\",accuracy_score(y_test,y_pred3))"
   ]
  },
  {
   "cell_type": "code",
   "execution_count": null,
   "metadata": {},
   "outputs": [],
   "source": []
  }
 ],
 "metadata": {
  "kernelspec": {
   "display_name": "Python 3 (ipykernel)",
   "language": "python",
   "name": "python3"
  },
  "language_info": {
   "codemirror_mode": {
    "name": "ipython",
    "version": 3
   },
   "file_extension": ".py",
   "mimetype": "text/x-python",
   "name": "python",
   "nbconvert_exporter": "python",
   "pygments_lexer": "ipython3",
   "version": "3.9.12"
  }
 },
 "nbformat": 4,
 "nbformat_minor": 4
}
